{
  "nbformat": 4,
  "nbformat_minor": 0,
  "metadata": {
    "colab": {
      "name": "labprog.ipynb",
      "provenance": [],
      "collapsed_sections": [],
      "authorship_tag": "ABX9TyPYIK9HHzlX01DexsfJQUDJ"
    },
    "kernelspec": {
      "name": "python3",
      "display_name": "Python 3"
    }
  },
  "cells": [
    {
      "cell_type": "code",
      "metadata": {
        "id": "HyYtNuhB3BUt",
        "colab_type": "code",
        "colab": {
          "base_uri": "https://localhost:8080/",
          "height": 50
        },
        "outputId": "59627316-5b0c-465d-abfb-0812d15c5f8a"
      },
      "source": [
        "n=int(input())\n",
        "sum=0\n",
        "s=0\n",
        "while(n>0):\n",
        "    r=n%10\n",
        "    sum=sum+r\n",
        "    n=n//10\n",
        "\n",
        "if(sum>=0 and sum<=9):\n",
        "  print(sum)\n",
        "else:\n",
        "  while(sum>0):\n",
        "    r=sum%10\n",
        "    s=s+r\n",
        "    sum=sum//10\n",
        "  print(s)\n",
        "\n",
        "\n"
      ],
      "execution_count": 9,
      "outputs": [
        {
          "output_type": "stream",
          "text": [
            "56\n",
            "2\n"
          ],
          "name": "stdout"
        }
      ]
    }
  ]
}